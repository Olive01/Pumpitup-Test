{
 "cells": [
  {
   "cell_type": "code",
   "execution_count": 1,
   "metadata": {
    "collapsed": false
   },
   "outputs": [
    {
     "name": "stderr",
     "output_type": "stream",
     "text": [
      "C:\\Users\\Admin\\Anaconda3\\lib\\site-packages\\sklearn\\metrics\\metrics.py:4: DeprecationWarning: sklearn.metrics.metrics is deprecated and will be removed in 0.18. Please import from sklearn.metrics\n",
      "  DeprecationWarning)\n"
     ]
    },
    {
     "name": "stdout",
     "output_type": "stream",
     "text": [
      "<class 'pandas.core.frame.DataFrame'>\n",
      "RangeIndex: 59400 entries, 0 to 59399\n",
      "Data columns (total 40 columns):\n",
      "id                       59400 non-null int64\n",
      "amount_tsh               59400 non-null float64\n",
      "date_recorded            59400 non-null object\n",
      "funder                   59400 non-null object\n",
      "gps_height               59400 non-null int64\n",
      "installer                59400 non-null object\n",
      "longitude                59400 non-null float64\n",
      "latitude                 59400 non-null float64\n",
      "wpt_name                 59400 non-null object\n",
      "num_private              59400 non-null int64\n",
      "basin                    59400 non-null object\n",
      "subvillage               59400 non-null object\n",
      "region                   59400 non-null object\n",
      "region_code              59400 non-null int64\n",
      "district_code            59400 non-null int64\n",
      "lga                      59400 non-null object\n",
      "ward                     59400 non-null object\n",
      "population               59400 non-null int64\n",
      "public_meeting           56066 non-null object\n",
      "recorded_by              59400 non-null object\n",
      "scheme_management        59400 non-null object\n",
      "scheme_name              59400 non-null object\n",
      "permit                   59400 non-null object\n",
      "construction_year        59400 non-null int64\n",
      "extraction_type          59400 non-null object\n",
      "extraction_type_group    59400 non-null object\n",
      "extraction_type_class    59400 non-null object\n",
      "management               59400 non-null object\n",
      "management_group         59400 non-null object\n",
      "payment                  59400 non-null object\n",
      "payment_type             59400 non-null object\n",
      "water_quality            59400 non-null object\n",
      "quality_group            59400 non-null object\n",
      "quantity                 59400 non-null object\n",
      "quantity_group           59400 non-null object\n",
      "source                   59400 non-null object\n",
      "source_type              59400 non-null object\n",
      "source_class             59400 non-null object\n",
      "waterpoint_type          59400 non-null object\n",
      "waterpoint_type_group    59400 non-null object\n",
      "dtypes: float64(3), int64(7), object(30)\n",
      "memory usage: 18.1+ MB\n",
      "<class 'pandas.core.frame.DataFrame'>\n",
      "RangeIndex: 21 entries, 0 to 20\n",
      "Data columns (total 2 columns):\n",
      "region            21 non-null object\n",
      "public_meeting    20 non-null object\n",
      "dtypes: object(2)\n",
      "memory usage: 416.0+ bytes\n",
      "<class 'pandas.core.frame.DataFrame'>\n",
      "RangeIndex: 21 entries, 0 to 20\n",
      "Data columns (total 2 columns):\n",
      "region         21 non-null object\n",
      "region_code    21 non-null int64\n",
      "dtypes: int64(1), object(1)\n",
      "memory usage: 416.0+ bytes\n",
      "<class 'pandas.core.frame.DataFrame'>\n",
      "RangeIndex: 59400 entries, 0 to 59399\n",
      "Data columns (total 2 columns):\n",
      "id              59400 non-null int64\n",
      "status_group    59400 non-null object\n",
      "dtypes: int64(1), object(1)\n",
      "memory usage: 928.2+ KB\n"
     ]
    },
    {
     "data": {
      "text/html": [
       "<div>\n",
       "<table border=\"1\" class=\"dataframe\">\n",
       "  <thead>\n",
       "    <tr style=\"text-align: right;\">\n",
       "      <th></th>\n",
       "      <th>id</th>\n",
       "      <th>status_group</th>\n",
       "      <th>amount_tsh</th>\n",
       "      <th>date_recorded</th>\n",
       "      <th>funder</th>\n",
       "      <th>gps_height</th>\n",
       "      <th>installer</th>\n",
       "      <th>longitude</th>\n",
       "      <th>latitude</th>\n",
       "      <th>wpt_name</th>\n",
       "      <th>...</th>\n",
       "      <th>payment_type</th>\n",
       "      <th>water_quality</th>\n",
       "      <th>quality_group</th>\n",
       "      <th>quantity</th>\n",
       "      <th>quantity_group</th>\n",
       "      <th>source</th>\n",
       "      <th>source_type</th>\n",
       "      <th>source_class</th>\n",
       "      <th>waterpoint_type</th>\n",
       "      <th>waterpoint_type_group</th>\n",
       "    </tr>\n",
       "  </thead>\n",
       "  <tbody>\n",
       "    <tr>\n",
       "      <th>0</th>\n",
       "      <td>69572</td>\n",
       "      <td>functional</td>\n",
       "      <td>6000.0</td>\n",
       "      <td>14-03-2011</td>\n",
       "      <td>Roman</td>\n",
       "      <td>1390</td>\n",
       "      <td>Roman</td>\n",
       "      <td>34.938093</td>\n",
       "      <td>-9.856322</td>\n",
       "      <td>none</td>\n",
       "      <td>...</td>\n",
       "      <td>annually</td>\n",
       "      <td>soft</td>\n",
       "      <td>good</td>\n",
       "      <td>enough</td>\n",
       "      <td>enough</td>\n",
       "      <td>spring</td>\n",
       "      <td>spring</td>\n",
       "      <td>groundwater</td>\n",
       "      <td>communal standpipe</td>\n",
       "      <td>communal standpipe</td>\n",
       "    </tr>\n",
       "    <tr>\n",
       "      <th>1</th>\n",
       "      <td>8776</td>\n",
       "      <td>functional</td>\n",
       "      <td>0.0</td>\n",
       "      <td>06-03-2013</td>\n",
       "      <td>Grumeti</td>\n",
       "      <td>1399</td>\n",
       "      <td>GRUMETI</td>\n",
       "      <td>34.698766</td>\n",
       "      <td>-2.147466</td>\n",
       "      <td>Zahanati</td>\n",
       "      <td>...</td>\n",
       "      <td>never pay</td>\n",
       "      <td>soft</td>\n",
       "      <td>good</td>\n",
       "      <td>insufficient</td>\n",
       "      <td>insufficient</td>\n",
       "      <td>rainwater harvesting</td>\n",
       "      <td>rainwater harvesting</td>\n",
       "      <td>surface</td>\n",
       "      <td>communal standpipe</td>\n",
       "      <td>communal standpipe</td>\n",
       "    </tr>\n",
       "    <tr>\n",
       "      <th>2</th>\n",
       "      <td>34310</td>\n",
       "      <td>functional</td>\n",
       "      <td>25.0</td>\n",
       "      <td>25-02-2013</td>\n",
       "      <td>Lottery Club</td>\n",
       "      <td>686</td>\n",
       "      <td>World vision</td>\n",
       "      <td>37.460664</td>\n",
       "      <td>-3.821329</td>\n",
       "      <td>Kwa Mahundi</td>\n",
       "      <td>...</td>\n",
       "      <td>per bucket</td>\n",
       "      <td>soft</td>\n",
       "      <td>good</td>\n",
       "      <td>enough</td>\n",
       "      <td>enough</td>\n",
       "      <td>dam</td>\n",
       "      <td>dam</td>\n",
       "      <td>surface</td>\n",
       "      <td>communal standpipe multiple</td>\n",
       "      <td>communal standpipe</td>\n",
       "    </tr>\n",
       "    <tr>\n",
       "      <th>3</th>\n",
       "      <td>67743</td>\n",
       "      <td>non functional</td>\n",
       "      <td>0.0</td>\n",
       "      <td>28-01-2013</td>\n",
       "      <td>Unicef</td>\n",
       "      <td>263</td>\n",
       "      <td>UNICEF</td>\n",
       "      <td>38.486161</td>\n",
       "      <td>-11.155298</td>\n",
       "      <td>Zahanati Ya Nanyumbu</td>\n",
       "      <td>...</td>\n",
       "      <td>never pay</td>\n",
       "      <td>soft</td>\n",
       "      <td>good</td>\n",
       "      <td>dry</td>\n",
       "      <td>dry</td>\n",
       "      <td>machine dbh</td>\n",
       "      <td>borehole</td>\n",
       "      <td>groundwater</td>\n",
       "      <td>communal standpipe multiple</td>\n",
       "      <td>communal standpipe</td>\n",
       "    </tr>\n",
       "    <tr>\n",
       "      <th>4</th>\n",
       "      <td>19728</td>\n",
       "      <td>functional</td>\n",
       "      <td>0.0</td>\n",
       "      <td>13-07-2011</td>\n",
       "      <td>Action In A</td>\n",
       "      <td>0</td>\n",
       "      <td>Artisan</td>\n",
       "      <td>31.130847</td>\n",
       "      <td>-1.825359</td>\n",
       "      <td>Shuleni</td>\n",
       "      <td>...</td>\n",
       "      <td>never pay</td>\n",
       "      <td>soft</td>\n",
       "      <td>good</td>\n",
       "      <td>seasonal</td>\n",
       "      <td>seasonal</td>\n",
       "      <td>rainwater harvesting</td>\n",
       "      <td>rainwater harvesting</td>\n",
       "      <td>surface</td>\n",
       "      <td>communal standpipe</td>\n",
       "      <td>communal standpipe</td>\n",
       "    </tr>\n",
       "  </tbody>\n",
       "</table>\n",
       "<p>5 rows × 41 columns</p>\n",
       "</div>"
      ],
      "text/plain": [
       "      id    status_group  amount_tsh date_recorded        funder  gps_height  \\\n",
       "0  69572      functional      6000.0    14-03-2011         Roman        1390   \n",
       "1   8776      functional         0.0    06-03-2013       Grumeti        1399   \n",
       "2  34310      functional        25.0    25-02-2013  Lottery Club         686   \n",
       "3  67743  non functional         0.0    28-01-2013        Unicef         263   \n",
       "4  19728      functional         0.0    13-07-2011   Action In A           0   \n",
       "\n",
       "      installer  longitude   latitude              wpt_name  \\\n",
       "0         Roman  34.938093  -9.856322                  none   \n",
       "1       GRUMETI  34.698766  -2.147466              Zahanati   \n",
       "2  World vision  37.460664  -3.821329           Kwa Mahundi   \n",
       "3        UNICEF  38.486161 -11.155298  Zahanati Ya Nanyumbu   \n",
       "4       Artisan  31.130847  -1.825359               Shuleni   \n",
       "\n",
       "           ...           payment_type water_quality quality_group  \\\n",
       "0          ...               annually          soft          good   \n",
       "1          ...              never pay          soft          good   \n",
       "2          ...             per bucket          soft          good   \n",
       "3          ...              never pay          soft          good   \n",
       "4          ...              never pay          soft          good   \n",
       "\n",
       "       quantity  quantity_group                source           source_type  \\\n",
       "0        enough          enough                spring                spring   \n",
       "1  insufficient    insufficient  rainwater harvesting  rainwater harvesting   \n",
       "2        enough          enough                   dam                   dam   \n",
       "3           dry             dry           machine dbh              borehole   \n",
       "4      seasonal        seasonal  rainwater harvesting  rainwater harvesting   \n",
       "\n",
       "  source_class              waterpoint_type waterpoint_type_group  \n",
       "0  groundwater           communal standpipe    communal standpipe  \n",
       "1      surface           communal standpipe    communal standpipe  \n",
       "2      surface  communal standpipe multiple    communal standpipe  \n",
       "3  groundwater  communal standpipe multiple    communal standpipe  \n",
       "4      surface           communal standpipe    communal standpipe  \n",
       "\n",
       "[5 rows x 41 columns]"
      ]
     },
     "execution_count": 1,
     "metadata": {},
     "output_type": "execute_result"
    }
   ],
   "source": [
    "%matplotlib inline\n",
    "\n",
    "import matplotlib\n",
    "import numpy as np\n",
    "import matplotlib.pyplot as plt\n",
    "import pandas as pd\n",
    "from sklearn.svm import SVC\n",
    "from sklearn import linear_model,datasets\n",
    "from sklearn.metrics import accuracy_score\n",
    "import scipy.stats as scipy\n",
    "import seaborn as sns\n",
    "from sklearn.ensemble import RandomForestClassifier \n",
    "from sklearn import preprocessing\n",
    "from sklearn.metrics import metrics\n",
    "from sklearn import metrics\n",
    "from sklearn.cross_validation import train_test_split\n",
    "from sklearn.decomposition import PCA\n",
    "from sklearn.feature_selection import SelectFromModel\n",
    "from sklearn.pipeline import Pipeline\n",
    "from sklearn.svm import LinearSVC\n",
    "import sklearn.grid_search\n",
    "from sklearn.cluster import KMeans\n",
    "from scipy.stats import randint as sp_randint\n",
    "from sklearn.ensemble import GradientBoostingClassifier\n",
    "from sklearn.multiclass import OneVsRestClassifier\n",
    "from sklearn.naive_bayes import GaussianNB\n",
    "train_set1=pd.read_csv(\"Attributes11.csv\")\n",
    "train_set1.info()\n",
    "train_set2=pd.read_csv(\"publicMeetingFixed.csv\")\n",
    "train_set2.info()\n",
    "train_set3=pd.read_csv(\"regionCodefixed.csv\")\n",
    "train_set3.info()\n",
    "train_set4=pd.read_csv(\"status_group.csv\")\n",
    "train_set4.info()\n",
    "train_set=pd.merge(train_set4, train_set1, on='id')\n",
    "train_set.head()"
   ]
  },
  {
   "cell_type": "code",
   "execution_count": 2,
   "metadata": {
    "collapsed": false
   },
   "outputs": [
    {
     "name": "stdout",
     "output_type": "stream",
     "text": [
      "<class 'pandas.core.frame.DataFrame'>\n",
      "Int64Index: 59400 entries, 0 to 59399\n",
      "Data columns (total 42 columns):\n",
      "id                       59400 non-null int64\n",
      "status_group             59400 non-null object\n",
      "amount_tsh               59400 non-null float64\n",
      "date_recorded            59400 non-null object\n",
      "funder                   59400 non-null object\n",
      "gps_height               59400 non-null int64\n",
      "installer                59400 non-null object\n",
      "longitude                59400 non-null float64\n",
      "latitude                 59400 non-null float64\n",
      "wpt_name                 59400 non-null object\n",
      "num_private              59400 non-null int64\n",
      "basin                    59400 non-null object\n",
      "subvillage               59400 non-null object\n",
      "region                   59400 non-null object\n",
      "region_code              59400 non-null int64\n",
      "district_code            59400 non-null int64\n",
      "lga                      59400 non-null object\n",
      "ward                     59400 non-null object\n",
      "population               59400 non-null int64\n",
      "public_meeting_x         56066 non-null object\n",
      "recorded_by              59400 non-null object\n",
      "scheme_management        59400 non-null object\n",
      "scheme_name              59400 non-null object\n",
      "permit                   59400 non-null object\n",
      "construction_year        59400 non-null int64\n",
      "extraction_type          59400 non-null object\n",
      "extraction_type_group    59400 non-null object\n",
      "extraction_type_class    59400 non-null object\n",
      "management               59400 non-null object\n",
      "management_group         59400 non-null object\n",
      "payment                  59400 non-null object\n",
      "payment_type             59400 non-null object\n",
      "water_quality            59400 non-null object\n",
      "quality_group            59400 non-null object\n",
      "quantity                 59400 non-null object\n",
      "quantity_group           59400 non-null object\n",
      "source                   59400 non-null object\n",
      "source_type              59400 non-null object\n",
      "source_class             59400 non-null object\n",
      "waterpoint_type          59400 non-null object\n",
      "waterpoint_type_group    59400 non-null object\n",
      "public_meeting_y         58595 non-null object\n",
      "dtypes: float64(3), int64(7), object(32)\n",
      "memory usage: 19.5+ MB\n",
      "3334\n",
      "<class 'pandas.core.frame.DataFrame'>\n",
      "Int64Index: 59400 entries, 0 to 59399\n",
      "Data columns (total 41 columns):\n",
      "id                       59400 non-null int64\n",
      "status_group             59400 non-null object\n",
      "amount_tsh               59400 non-null float64\n",
      "date_recorded            59400 non-null object\n",
      "funder                   59400 non-null object\n",
      "gps_height               59400 non-null int64\n",
      "installer                59400 non-null object\n",
      "longitude                59400 non-null float64\n",
      "latitude                 59400 non-null float64\n",
      "wpt_name                 59400 non-null object\n",
      "num_private              59400 non-null int64\n",
      "basin                    59400 non-null object\n",
      "subvillage               59400 non-null object\n",
      "region                   59400 non-null object\n",
      "region_code              59400 non-null int64\n",
      "district_code            59400 non-null int64\n",
      "lga                      59400 non-null object\n",
      "ward                     59400 non-null object\n",
      "population               59400 non-null int64\n",
      "recorded_by              59400 non-null object\n",
      "scheme_management        59400 non-null object\n",
      "scheme_name              59400 non-null object\n",
      "permit                   59400 non-null object\n",
      "construction_year        59400 non-null int64\n",
      "extraction_type          59400 non-null object\n",
      "extraction_type_group    59400 non-null object\n",
      "extraction_type_class    59400 non-null object\n",
      "management               59400 non-null object\n",
      "management_group         59400 non-null object\n",
      "payment                  59400 non-null object\n",
      "payment_type             59400 non-null object\n",
      "water_quality            59400 non-null object\n",
      "quality_group            59400 non-null object\n",
      "quantity                 59400 non-null object\n",
      "quantity_group           59400 non-null object\n",
      "source                   59400 non-null object\n",
      "source_type              59400 non-null object\n",
      "source_class             59400 non-null object\n",
      "waterpoint_type          59400 non-null object\n",
      "waterpoint_type_group    59400 non-null object\n",
      "public_meeting           59400 non-null object\n",
      "dtypes: float64(3), int64(7), object(31)\n",
      "memory usage: 19.0+ MB\n",
      "<class 'pandas.core.frame.DataFrame'>\n",
      "Int64Index: 59400 entries, 0 to 59399\n",
      "Data columns (total 42 columns):\n",
      "id                       59400 non-null int64\n",
      "status_group             59400 non-null object\n",
      "amount_tsh               59400 non-null float64\n",
      "date_recorded            59400 non-null object\n",
      "funder                   59400 non-null object\n",
      "gps_height               59400 non-null int64\n",
      "installer                59400 non-null object\n",
      "longitude                59400 non-null float64\n",
      "latitude                 59400 non-null float64\n",
      "wpt_name                 59400 non-null object\n",
      "num_private              59400 non-null int64\n",
      "basin                    59400 non-null object\n",
      "subvillage               59400 non-null object\n",
      "region                   59400 non-null object\n",
      "region_code_x            59400 non-null int64\n",
      "district_code            59400 non-null int64\n",
      "lga                      59400 non-null object\n",
      "ward                     59400 non-null object\n",
      "population               59400 non-null int64\n",
      "recorded_by              59400 non-null object\n",
      "scheme_management        59400 non-null object\n",
      "scheme_name              59400 non-null object\n",
      "permit                   59400 non-null object\n",
      "construction_year        59400 non-null int64\n",
      "extraction_type          59400 non-null object\n",
      "extraction_type_group    59400 non-null object\n",
      "extraction_type_class    59400 non-null object\n",
      "management               59400 non-null object\n",
      "management_group         59400 non-null object\n",
      "payment                  59400 non-null object\n",
      "payment_type             59400 non-null object\n",
      "water_quality            59400 non-null object\n",
      "quality_group            59400 non-null object\n",
      "quantity                 59400 non-null object\n",
      "quantity_group           59400 non-null object\n",
      "source                   59400 non-null object\n",
      "source_type              59400 non-null object\n",
      "source_class             59400 non-null object\n",
      "waterpoint_type          59400 non-null object\n",
      "waterpoint_type_group    59400 non-null object\n",
      "public_meeting           59400 non-null object\n",
      "region_code_y            59400 non-null int64\n",
      "dtypes: float64(3), int64(8), object(31)\n",
      "memory usage: 19.5+ MB\n",
      "1812\n",
      "<class 'pandas.core.frame.DataFrame'>\n",
      "Int64Index: 59400 entries, 0 to 59399\n",
      "Data columns (total 43 columns):\n",
      "id                       59400 non-null int64\n",
      "status_group             59400 non-null object\n",
      "amount_tsh               59400 non-null float64\n",
      "date_recorded            59400 non-null object\n",
      "funder                   59400 non-null object\n",
      "gps_height               59400 non-null int64\n",
      "installer                59400 non-null object\n",
      "longitude                58912 non-null float64\n",
      "latitude                 58912 non-null float64\n",
      "wpt_name                 59400 non-null object\n",
      "num_private              59400 non-null int64\n",
      "basin                    59400 non-null object\n",
      "subvillage               59400 non-null object\n",
      "region                   59400 non-null object\n",
      "district_code            59400 non-null int64\n",
      "lga                      59400 non-null object\n",
      "ward                     59400 non-null object\n",
      "population               59400 non-null int64\n",
      "public_meeting           56066 non-null object\n",
      "recorded_by              59400 non-null object\n",
      "scheme_management        59400 non-null object\n",
      "scheme_name              59400 non-null object\n",
      "permit                   59400 non-null object\n",
      "construction_year        59400 non-null int64\n",
      "extraction_type          59400 non-null object\n",
      "extraction_type_group    59400 non-null object\n",
      "extraction_type_class    59400 non-null object\n",
      "management               59400 non-null object\n",
      "management_group         59400 non-null object\n",
      "payment                  59400 non-null object\n",
      "payment_type             59400 non-null object\n",
      "water_quality            59400 non-null object\n",
      "quality_group            59400 non-null object\n",
      "quantity                 59400 non-null object\n",
      "quantity_group           59400 non-null object\n",
      "source                   59400 non-null object\n",
      "source_type              59400 non-null object\n",
      "source_class             59400 non-null object\n",
      "waterpoint_type          59400 non-null object\n",
      "waterpoint_type_group    59400 non-null object\n",
      "region_code              59400 non-null int64\n",
      "long_median              58912 non-null float64\n",
      "lat_median               58912 non-null float64\n",
      "dtypes: float64(5), int64(7), object(31)\n",
      "memory usage: 19.9+ MB\n",
      "<class 'pandas.core.frame.DataFrame'>\n",
      "Int64Index: 59400 entries, 0 to 59399\n",
      "Data columns (total 45 columns):\n",
      "id                       59400 non-null int64\n",
      "status_group             59400 non-null object\n",
      "amount_tsh               59400 non-null float64\n",
      "date_recorded            59400 non-null float64\n",
      "funder                   59400 non-null object\n",
      "gps_height               59400 non-null int64\n",
      "installer                59400 non-null object\n",
      "longitude                59400 non-null float64\n",
      "latitude                 59400 non-null float64\n",
      "wpt_name                 59400 non-null object\n",
      "num_private              59400 non-null int64\n",
      "basin                    59400 non-null object\n",
      "subvillage               59400 non-null object\n",
      "region                   59400 non-null object\n",
      "district_code            59400 non-null int64\n",
      "lga                      59400 non-null object\n",
      "ward                     59400 non-null object\n",
      "population               59400 non-null int64\n",
      "public_meeting           56066 non-null object\n",
      "recorded_by              59400 non-null object\n",
      "scheme_management        59400 non-null object\n",
      "scheme_name              59400 non-null object\n",
      "permit                   59400 non-null object\n",
      "construction_year        59400 non-null int64\n",
      "extraction_type          59400 non-null object\n",
      "extraction_type_group    59400 non-null object\n",
      "extraction_type_class    59400 non-null object\n",
      "management               59400 non-null object\n",
      "management_group         59400 non-null object\n",
      "payment                  59400 non-null object\n",
      "payment_type             59400 non-null object\n",
      "water_quality            59400 non-null object\n",
      "quality_group            59400 non-null object\n",
      "quantity                 59400 non-null object\n",
      "quantity_group           59400 non-null object\n",
      "source                   59400 non-null object\n",
      "source_type              59400 non-null object\n",
      "source_class             59400 non-null object\n",
      "waterpoint_type          59400 non-null object\n",
      "waterpoint_type_group    59400 non-null object\n",
      "region_code              59400 non-null int64\n",
      "long_median              58912 non-null float64\n",
      "lat_median               58912 non-null float64\n",
      "long1_median             59400 non-null float64\n",
      "lat1_median              59400 non-null float64\n",
      "dtypes: float64(8), int64(7), object(30)\n",
      "memory usage: 20.8+ MB\n"
     ]
    },
    {
     "data": {
      "text/plain": [
       "DWE                     17402\n",
       "others                  10080\n",
       "missing                  3655\n",
       "Government               1825\n",
       "RWE                      1206\n",
       "Commu                    1060\n",
       "DANIDA                   1050\n",
       "KKKT                      898\n",
       "Hesawa                    840\n",
       "TCRS                      707\n",
       "Central government        622\n",
       "CES                       610\n",
       "Community                 553\n",
       "DANID                     552\n",
       "District Council          551\n",
       "HESAWA                    539\n",
       "LGA                       408\n",
       "World vision              408\n",
       "WEDECO                    397\n",
       "TASAF                     396\n",
       "District council          392\n",
       "Gover                     383\n",
       "AMREF                     329\n",
       "TWESA                     316\n",
       "WU                        301\n",
       "Dmdd                      287\n",
       "ACRA                      278\n",
       "World Vision              270\n",
       "SEMA                      249\n",
       "DW                        246\n",
       "                        ...  \n",
       "GOVERNMENT                 66\n",
       "Villa                      65\n",
       "MTN                        65\n",
       "TASSAF                     64\n",
       "DAWASCO                    64\n",
       "GTZ                        63\n",
       "Finwater                   62\n",
       "Losaa-Kia water supp       62\n",
       "Wachina                    60\n",
       "LVIA                       60\n",
       "Adra/Community             60\n",
       "FIN WATER                  59\n",
       "Village Council            58\n",
       "NCAA                       57\n",
       "RDC                        55\n",
       "GEN                        55\n",
       "TLC                        55\n",
       "Co                         55\n",
       "ADRA                       55\n",
       "Adra /Community            55\n",
       "Communit                   54\n",
       "Priva                      54\n",
       "St                         54\n",
       "DHV                        54\n",
       "Pr                         53\n",
       "Local te                   52\n",
       "RC Ch                      52\n",
       "wanan                      52\n",
       "RWE/DWE                    52\n",
       "CDTF                       50\n",
       "Name: installer, dtype: int64"
      ]
     },
     "execution_count": 2,
     "metadata": {},
     "output_type": "execute_result"
    }
   ],
   "source": [
    "#replace public_meeting with publicmeeting grouped by region\n",
    "merge1=pd.merge(train_set, train_set2, on='region')\n",
    "merge1.info()\n",
    "#merge1[\"public_meeting_x\"]=merge1.public_meeting_x.replace(r'\\s+',np.nan,regex=True).replace('',np.nan)\n",
    "#merge1.info()\n",
    "print(merge1['public_meeting_x'].isnull().sum())\n",
    "merge1['public_meeting_y'].fillna('True',inplace=True)\n",
    "merge1.loc[merge1['public_meeting_x'].isnull(),'public_meeting_x'] = merge1['public_meeting_y']\n",
    "merge1['public_meeting_x'].value_counts()\n",
    "merge1['public_meeting']=merge1['public_meeting_x']\n",
    "merge1.drop('public_meeting_y',axis=1,inplace=True)\n",
    "merge1.drop('public_meeting_x',axis=1,inplace=True)\n",
    "merge1.info()\n",
    "merged_data=pd.merge(merge1, train_set3, on='region')\n",
    "merged_data.info()\n",
    "merged_data=pd.merge(train_set, train_set3, on='region')\n",
    "merged_data['region_code_x']=merged_data['region_code_y']\n",
    "merged_data['region_code'] = merged_data['region_code_x']\n",
    "merged_data.drop('region_code_y',axis=1,inplace=True)\n",
    "merged_data.drop('region_code_x',axis=1,inplace=True)\n",
    "merged_data['construction_year'].replace(to_replace=0, value=merged_data['construction_year'].median(),inplace=True)\n",
    "merged_data['construction_year'] = pd.cut(merged_data.construction_year, bins=20,labels=False)\n",
    "merged_data['construction_year'].value_counts()\n",
    "#setting lat and long with median based on lga -- works\n",
    "merged_data.longitude.replace(0.000000,np.nan,inplace=True)\n",
    "merged_data.latitude.replace(-2.000000e-08,np.nan,inplace=True)\n",
    "merged_data['long_median'] = merged_data.groupby('lga')['longitude'].transform('median')\n",
    "merged_data['lat_median'] = merged_data.groupby('lga')['latitude'].transform('median')\n",
    "#merged_data\n",
    "print(np.isnan(merged_data.longitude).sum())\n",
    "merged_data.loc[np.isnan(merged_data.longitude),'longitude'] = merged_data['long_median']\n",
    "merged_data.loc[np.isnan(merged_data.latitude),'latitude'] = merged_data['lat_median']\n",
    "merged_data.info()\n",
    "merged_data['long1_median'] = merged_data.groupby('district_code')['longitude'].transform('median')\n",
    "merged_data['lat1_median'] = merged_data.groupby('district_code')['latitude'].transform('median')\n",
    "merged_data.loc[np.isnan(merged_data.longitude),'longitude'] = merged_data['long1_median']\n",
    "merged_data.loc[np.isnan(merged_data.latitude),'latitude'] = merged_data['lat1_median']\n",
    "# testing\n",
    "merged_data['date_recorded']=pd.to_datetime(merged_data['date_recorded'],format=\"%d-%m-%Y\")\n",
    "merged_data['date_recorded']=merged_data['date_recorded'] - pd.datetime(1970,1,1)\n",
    "merged_data['date_recorded'] =merged_data['date_recorded'].astype('timedelta64[D]')\n",
    "merged_data.info()\n",
    "merged_data['date_recorded']=pd.cut(merged_data.date_recorded, bins=20,labels=False)\n",
    "merged_data['funder'].value_counts()\n",
    "merged_data['funder_freq']=merged_data.groupby('funder')['funder'].transform('count')\n",
    "merged_data.ix[merged_data.funder_freq < 50, 'funder'] = 'others'\n",
    "merged_data['funder'].value_counts()\n",
    "merged_data['installer'].value_counts()\n",
    "merged_data['installer_freq']=merged_data.groupby('installer')['installer'].transform('count')\n",
    "merged_data.ix[merged_data.installer_freq < 50, 'installer'] = 'others'\n",
    "merged_data.ix[merged_data.installer =='0', 'installer'] = 'others'\n",
    "merged_data['installer'].value_counts()"
   ]
  },
  {
   "cell_type": "code",
   "execution_count": 3,
   "metadata": {
    "collapsed": false
   },
   "outputs": [
    {
     "name": "stdout",
     "output_type": "stream",
     "text": [
      "<class 'pandas.core.frame.DataFrame'>\n",
      "Int64Index: 59400 entries, 0 to 59399\n",
      "Data columns (total 37 columns):\n",
      "status_group             59400 non-null object\n",
      "date_recorded            59400 non-null int64\n",
      "funder                   59400 non-null object\n",
      "gps_height               59400 non-null int64\n",
      "installer                59400 non-null object\n",
      "longitude                59400 non-null float64\n",
      "latitude                 59400 non-null float64\n",
      "basin                    59400 non-null object\n",
      "subvillage               59400 non-null object\n",
      "region                   59400 non-null object\n",
      "district_code            59400 non-null int64\n",
      "lga                      59400 non-null object\n",
      "ward                     59400 non-null object\n",
      "population               59400 non-null int64\n",
      "public_meeting           56066 non-null object\n",
      "recorded_by              59400 non-null object\n",
      "scheme_management        59400 non-null object\n",
      "scheme_name              59400 non-null object\n",
      "permit                   59400 non-null object\n",
      "construction_year        59400 non-null int64\n",
      "extraction_type          59400 non-null object\n",
      "extraction_type_group    59400 non-null object\n",
      "extraction_type_class    59400 non-null object\n",
      "management               59400 non-null object\n",
      "management_group         59400 non-null object\n",
      "payment                  59400 non-null object\n",
      "payment_type             59400 non-null object\n",
      "water_quality            59400 non-null object\n",
      "quality_group            59400 non-null object\n",
      "quantity                 59400 non-null object\n",
      "quantity_group           59400 non-null object\n",
      "source                   59400 non-null object\n",
      "source_type              59400 non-null object\n",
      "source_class             59400 non-null object\n",
      "waterpoint_type          59400 non-null object\n",
      "waterpoint_type_group    59400 non-null object\n",
      "region_code              59400 non-null int64\n",
      "dtypes: float64(2), int64(6), object(29)\n",
      "memory usage: 17.2+ MB\n"
     ]
    }
   ],
   "source": [
    "merged_data.drop('wpt_name',axis=1,inplace=True)\n",
    "merged_data.drop('num_private',axis=1,inplace=True)\n",
    "#merged_data.drop('scheme_management',axis=1,inplace=True)\n",
    "#merged_data.drop('quantity_group',axis=1,inplace=True)\n",
    "#merged_data.drop('source_type',axis=1,inplace=True)\n",
    "#merged_data.drop('waterpoint_type_group',axis=1,inplace=True)\n",
    "#merged_data.drop('payment_type',axis=1,inplace=True)\n",
    "merged_data.drop('long_median',axis=1,inplace=True)\n",
    "merged_data.drop('lat_median',axis=1,inplace=True)\n",
    "merged_data.drop('long1_median',axis=1,inplace=True)\n",
    "merged_data.drop('lat1_median',axis=1,inplace=True)\n",
    "merged_data.drop('id',axis=1,inplace=True)\n",
    "merged_data.drop('amount_tsh',axis=1,inplace=True)\n",
    "#merged_data.drop('extraction_type_class',axis=1,inplace=True)\n",
    "merged_data.drop('installer_freq',axis=1,inplace=True)\n",
    "merged_data.drop('funder_freq',axis=1,inplace=True)\n",
    "merged_data.info()"
   ]
  },
  {
   "cell_type": "code",
   "execution_count": 4,
   "metadata": {
    "collapsed": false
   },
   "outputs": [],
   "source": [
    "columnsToEncode = list(merged_data.select_dtypes(include=['category','object']))\n",
    "le = preprocessing.LabelEncoder()\n",
    "merged_data=merged_data.fillna(0)\n",
    "merged_data[\"funder\"]=merged_data[\"funder\"].astype(str)\n",
    "merged_data[\"installer\"]=merged_data[\"installer\"].astype(str)\n",
    "merged_data[\"subvillage\"]=merged_data[\"subvillage\"].astype(str)\n",
    "merged_data[\"scheme_name\"]=merged_data[\"scheme_name\"].astype(str)\n",
    "#merged_data['date_recorded']=merged_data['date_recorded'].astype(str)\n",
    "#print (merged_data.funder.value_counts())\n",
    "#merged_data[\"feature\"] = le.fit_transform(merged_data[\"funder\"])\n",
    "for feature in columnsToEncode:\n",
    "    try:\n",
    "         merged_data[feature] = le.fit_transform(merged_data[feature])\n",
    "    except:\n",
    "         print('Error encoding '+feature)\n"
   ]
  },
  {
   "cell_type": "code",
   "execution_count": 5,
   "metadata": {
    "collapsed": false
   },
   "outputs": [
    {
     "name": "stdout",
     "output_type": "stream",
     "text": [
      "<class 'pandas.core.frame.DataFrame'>\n",
      "Int64Index: 47520 entries, 55424 to 2732\n",
      "Data columns (total 36 columns):\n",
      "date_recorded            47520 non-null int64\n",
      "funder                   47520 non-null int64\n",
      "gps_height               47520 non-null int64\n",
      "installer                47520 non-null int64\n",
      "longitude                47520 non-null float64\n",
      "latitude                 47520 non-null float64\n",
      "basin                    47520 non-null int64\n",
      "subvillage               47520 non-null int64\n",
      "region                   47520 non-null int64\n",
      "district_code            47520 non-null int64\n",
      "lga                      47520 non-null int64\n",
      "ward                     47520 non-null int64\n",
      "population               47520 non-null int64\n",
      "public_meeting           47520 non-null int64\n",
      "recorded_by              47520 non-null int64\n",
      "scheme_management        47520 non-null int64\n",
      "scheme_name              47520 non-null int64\n",
      "permit                   47520 non-null int64\n",
      "construction_year        47520 non-null int64\n",
      "extraction_type          47520 non-null int64\n",
      "extraction_type_group    47520 non-null int64\n",
      "extraction_type_class    47520 non-null int64\n",
      "management               47520 non-null int64\n",
      "management_group         47520 non-null int64\n",
      "payment                  47520 non-null int64\n",
      "payment_type             47520 non-null int64\n",
      "water_quality            47520 non-null int64\n",
      "quality_group            47520 non-null int64\n",
      "quantity                 47520 non-null int64\n",
      "quantity_group           47520 non-null int64\n",
      "source                   47520 non-null int64\n",
      "source_type              47520 non-null int64\n",
      "source_class             47520 non-null int64\n",
      "waterpoint_type          47520 non-null int64\n",
      "waterpoint_type_group    47520 non-null int64\n",
      "region_code              47520 non-null int64\n",
      "dtypes: float64(2), int64(34)\n",
      "memory usage: 13.4 MB\n"
     ]
    }
   ],
   "source": [
    "\n",
    "data=merged_data.ix[ :, merged_data.columns != 'status_group']\n",
    "target1=merged_data['status_group']\n",
    "train1,test1,train2,test2=train_test_split(data,target1,test_size=0.2,random_state=0)\n",
    "train1.info();"
   ]
  },
  {
   "cell_type": "code",
   "execution_count": 20,
   "metadata": {
    "collapsed": false
   },
   "outputs": [
    {
     "name": "stdout",
     "output_type": "stream",
     "text": [
      "0.801515151515\n",
      "[ 0.00790618  0.03245131  0.05615581  0.02451698  0.10623751  0.1037262\n",
      "  0.01221134  0.07158959  0.01503993  0.01729218  0.02465935  0.04562986\n",
      "  0.03815836  0.00650914  0.          0.01288338  0.02750531  0.00804376\n",
      "  0.04027018  0.02940191  0.02879877  0.01440741  0.00632525  0.03148239\n",
      "  0.01141214  0.01131676  0.12001635  0.01972838  0.00682973  0.05248594\n",
      "  0.0170086 ]\n",
      "0.801515151515\n"
     ]
    }
   ],
   "source": [
    "#RANDOM FORESTS test train split for scoring\n",
    "\n",
    "# Create the random forest object which will include all the parameters\n",
    "# for the fit\n",
    "forest = RandomForestClassifier(n_estimators = 150)\n",
    "# Fit the training data to the Survived labels and create the decision trees\n",
    "forest = forest.fit(train1,train2)\n",
    "\n",
    "# Take the same decision trees and run it on the test data\n",
    "predicted_classification = forest.predict(test1)\n",
    "print(forest.score(test1,test2))\n",
    "print(forest.feature_importances_)\n",
    "print(accuracy_score(test2, predicted_classification))"
   ]
  },
  {
   "cell_type": "code",
   "execution_count": 36,
   "metadata": {
    "collapsed": false
   },
   "outputs": [
    {
     "name": "stdout",
     "output_type": "stream",
     "text": [
      "0.780976430976\n"
     ]
    }
   ],
   "source": [
    "clf = Pipeline([('pca', PCA(n_components=36)),\n",
    "                ('classification', RandomForestClassifier(n_estimators = 150))])\n",
    "clf=clf.fit(train1, train2)\n",
    "output =clf.predict(test1)\n",
    "print(clf.score(test1,test2))"
   ]
  },
  {
   "cell_type": "code",
   "execution_count": 38,
   "metadata": {
    "collapsed": false
   },
   "outputs": [
    {
     "name": "stdout",
     "output_type": "stream",
     "text": [
      "0.804208754209\n"
     ]
    }
   ],
   "source": [
    "#RANDOM FORESTS test train split for scoring\n",
    "\n",
    "# Create the random forest object which will include all the parameters\n",
    "# for the fit\n",
    "forest = RandomForestClassifier(n_estimators = 250)\n",
    "# Fit the training data to the Survived labels and create the decision trees\n",
    "forest = forest.fit(train1,train2)\n",
    "\n",
    "# Take the same decision trees and run it on the test data\n",
    "predicted_classification = forest.predict(test1)\n",
    "print(accuracy_score(test2, predicted_classification))"
   ]
  },
  {
   "cell_type": "code",
   "execution_count": 13,
   "metadata": {
    "collapsed": false
   },
   "outputs": [
    {
     "name": "stdout",
     "output_type": "stream",
     "text": [
      "0.803451178451\n"
     ]
    }
   ],
   "source": [
    "#RANDOM FORESTS test train split for scoring\n",
    "\n",
    "# Create the random forest object which will include all the parameters\n",
    "# for the fit\n",
    "forest = RandomForestClassifier(n_estimators = 500,criterion='entropy')\n",
    "# Fit the training data to the Survived labels and create the decision trees\n",
    "forest = forest.fit(train1,train2)\n",
    "\n",
    "# Take the same decision trees and run it on the test data\n",
    "predicted_classification = forest.predict(test1)\n",
    "print(accuracy_score(test2, predicted_classification))\n",
    "#250 estimators- 0.801936026936\n",
    "#500 estimators- 0.801936026936"
   ]
  },
  {
   "cell_type": "code",
   "execution_count": 39,
   "metadata": {
    "collapsed": false
   },
   "outputs": [
    {
     "name": "stdout",
     "output_type": "stream",
     "text": [
      "0.805555555556\n"
     ]
    }
   ],
   "source": [
    "#RANDOM FORESTS test train split for scoring\n",
    "\n",
    "# Create the random forest object which will include all the parameters\n",
    "# for the fit\n",
    "forest = RandomForestClassifier(n_estimators = 1500,criterion='entropy')\n",
    "# Fit the training data to the Survived labels and create the decision trees\n",
    "forest = forest.fit(train1,train2)\n",
    "\n",
    "# Take the same decision trees and run it on the test data\n",
    "predicted_classification = forest.predict(test1)\n",
    "print(accuracy_score(test2, predicted_classification))\n",
    "#150 estimators- 0.801599326599\n"
   ]
  },
  {
   "cell_type": "code",
   "execution_count": 40,
   "metadata": {
    "collapsed": false
   },
   "outputs": [
    {
     "name": "stdout",
     "output_type": "stream",
     "text": [
      "0.775252525253\n"
     ]
    }
   ],
   "source": [
    "clf = GradientBoostingClassifier(n_estimators=250,learning_rate=1.0).fit(train1,train2)\n",
    "predicted_classification = clf.predict(test1)\n",
    "print(accuracy_score(test2, predicted_classification))\n",
    "#100 - maxdepth-1, random_state=0 -0.79\n",
    "#150 -0.778535353535\n",
    "#250 - 0.76531986532 - without learning rate\n",
    "#250 - learning rate=1 -0.780555555556\n",
    "#250 -learning rate 2.0 - 0.698063973064"
   ]
  },
  {
   "cell_type": "code",
   "execution_count": 27,
   "metadata": {
    "collapsed": false
   },
   "outputs": [
    {
     "name": "stdout",
     "output_type": "stream",
     "text": [
      "0.789078282828\n",
      "0.765572390572\n"
     ]
    }
   ],
   "source": [
    "#GRID search \n",
    "clf_forest2 = sklearn.ensemble.RandomForestClassifier()\n",
    "n_iter_search = 10\n",
    "param_dist = {\"max_depth\": [50],\n",
    "\"max_features\": sp_randint(29, 31),\n",
    "\"min_samples_split\": sp_randint(20, 22),\n",
    "\"min_samples_leaf\": sp_randint(50, 51),\n",
    "\"criterion\": [ \"entropy\"]}\n",
    "\n",
    "random_search = sklearn.grid_search.RandomizedSearchCV(clf_forest2,\n",
    "param_distributions = param_dist,\n",
    "n_iter = n_iter_search)\n",
    "\n",
    "random_search.fit(train1, train2)\n",
    "print(random_search.score(train1, train2))\n",
    "print(random_search.score(test1, test2))"
   ]
  },
  {
   "cell_type": "code",
   "execution_count": 1,
   "metadata": {
    "collapsed": false
   },
   "outputs": [
    {
     "ename": "NameError",
     "evalue": "name 'KMeans' is not defined",
     "output_type": "error",
     "traceback": [
      "\u001b[1;31m---------------------------------------------------------------------------\u001b[0m",
      "\u001b[1;31mNameError\u001b[0m                                 Traceback (most recent call last)",
      "\u001b[1;32m<ipython-input-1-1fe8622ccc26>\u001b[0m in \u001b[0;36m<module>\u001b[1;34m()\u001b[0m\n\u001b[1;32m----> 1\u001b[1;33m \u001b[0mkmeans\u001b[0m \u001b[1;33m=\u001b[0m \u001b[0mKMeans\u001b[0m\u001b[1;33m(\u001b[0m\u001b[0mn_clusters\u001b[0m\u001b[1;33m=\u001b[0m\u001b[1;36m3\u001b[0m\u001b[1;33m,\u001b[0m\u001b[0minit\u001b[0m\u001b[1;33m=\u001b[0m\u001b[1;34m'k-means++'\u001b[0m\u001b[1;33m,\u001b[0m \u001b[0mrandom_state\u001b[0m\u001b[1;33m=\u001b[0m\u001b[1;36m0\u001b[0m\u001b[1;33m)\u001b[0m\u001b[1;33m.\u001b[0m\u001b[0mfit\u001b[0m\u001b[1;33m(\u001b[0m\u001b[0mtrain1\u001b[0m\u001b[1;33m)\u001b[0m\u001b[1;33m\u001b[0m\u001b[0m\n\u001b[0m\u001b[0;32m      2\u001b[0m \u001b[0moutput\u001b[0m\u001b[1;33m=\u001b[0m\u001b[0mkmeans\u001b[0m\u001b[1;33m.\u001b[0m\u001b[0mpredict\u001b[0m\u001b[1;33m(\u001b[0m\u001b[0mtest1\u001b[0m\u001b[1;33m)\u001b[0m\u001b[1;33m\u001b[0m\u001b[0m\n\u001b[0;32m      3\u001b[0m \u001b[0mprint\u001b[0m\u001b[1;33m(\u001b[0m\u001b[0mkmeans\u001b[0m\u001b[1;33m.\u001b[0m\u001b[0mscore\u001b[0m\u001b[1;33m(\u001b[0m\u001b[0mtest1\u001b[0m\u001b[1;33m,\u001b[0m\u001b[0mtest2\u001b[0m\u001b[1;33m)\u001b[0m\u001b[1;33m)\u001b[0m\u001b[1;33m\u001b[0m\u001b[0m\n\u001b[0;32m      4\u001b[0m \u001b[0mprint\u001b[0m\u001b[1;33m(\u001b[0m\u001b[0mkmeans\u001b[0m\u001b[1;33m.\u001b[0m\u001b[0mcluster_centers_\u001b[0m\u001b[1;33m)\u001b[0m\u001b[1;33m\u001b[0m\u001b[0m\n\u001b[0;32m      5\u001b[0m print(metrics.silhouette_score(data, output,\n",
      "\u001b[1;31mNameError\u001b[0m: name 'KMeans' is not defined"
     ]
    }
   ],
   "source": [
    "kmeans = KMeans(n_clusters=3,init='k-means++', random_state=0).fit(train1)\n",
    "output=kmeans.predict(test1)\n",
    "print(kmeans.score(test1,test2))\n",
    "print(kmeans.cluster_centers_)\n",
    "print(metrics.silhouette_score(data, output,\n",
    "                                      metric='euclidean'))"
   ]
  },
  {
   "cell_type": "code",
   "execution_count": null,
   "metadata": {
    "collapsed": true
   },
   "outputs": [],
   "source": [
    "# for k-means\n",
    "colormap = np.array(['red', 'lime', 'black'])\n",
    " \n",
    "# Plot the Original Classifications\n",
    "plt.subplot(1, 2, 1)\n",
    "plt.scatter(x.Petal_Length, x.Petal_Width, c=colormap[y.Targets], s=40)\n",
    "plt.title('Real Classification')\n",
    " \n",
    "# Plot the Models Classifications\n",
    "plt.subplot(1, 2, 2)\n",
    "plt.scatter(x.Petal_Length, x.Petal_Width, c=colormap[model.labels_], s=40)\n",
    "plt.title('K Mean Classification')"
   ]
  },
  {
   "cell_type": "code",
   "execution_count": 48,
   "metadata": {
    "collapsed": false
   },
   "outputs": [
    {
     "ename": "IndexError",
     "evalue": "index 11881 is out of bounds for axis 1 with size 11880",
     "output_type": "error",
     "traceback": [
      "\u001b[1;31m---------------------------------------------------------------------------\u001b[0m",
      "\u001b[1;31mIndexError\u001b[0m                                Traceback (most recent call last)",
      "\u001b[1;32m<ipython-input-48-5aee78727695>\u001b[0m in \u001b[0;36m<module>\u001b[1;34m()\u001b[0m\n\u001b[0;32m      3\u001b[0m \u001b[1;32mfor\u001b[0m \u001b[0mi\u001b[0m \u001b[1;32min\u001b[0m \u001b[0mrange\u001b[0m\u001b[1;33m(\u001b[0m\u001b[1;36m3\u001b[0m\u001b[1;33m)\u001b[0m\u001b[1;33m:\u001b[0m\u001b[1;33m\u001b[0m\u001b[0m\n\u001b[0;32m      4\u001b[0m     \u001b[1;31m# select only data observations with cluster label == i\u001b[0m\u001b[1;33m\u001b[0m\u001b[1;33m\u001b[0m\u001b[0m\n\u001b[1;32m----> 5\u001b[1;33m     \u001b[0mds\u001b[0m \u001b[1;33m=\u001b[0m \u001b[0moutput\u001b[0m\u001b[1;33m[\u001b[0m\u001b[0mnp\u001b[0m\u001b[1;33m.\u001b[0m\u001b[0mwhere\u001b[0m\u001b[1;33m(\u001b[0m\u001b[0mlabels\u001b[0m\u001b[1;33m==\u001b[0m\u001b[0mi\u001b[0m\u001b[1;33m)\u001b[0m\u001b[1;33m]\u001b[0m\u001b[1;33m\u001b[0m\u001b[0m\n\u001b[0m\u001b[0;32m      6\u001b[0m     \u001b[1;31m# plot the data observations\u001b[0m\u001b[1;33m\u001b[0m\u001b[1;33m\u001b[0m\u001b[0m\n\u001b[0;32m      7\u001b[0m     \u001b[0mpltt\u001b[0m\u001b[1;33m.\u001b[0m\u001b[0mplot\u001b[0m\u001b[1;33m(\u001b[0m\u001b[0mds\u001b[0m\u001b[1;33m[\u001b[0m\u001b[1;33m:\u001b[0m\u001b[1;33m,\u001b[0m\u001b[1;36m0\u001b[0m\u001b[1;33m]\u001b[0m\u001b[1;33m,\u001b[0m\u001b[0mds\u001b[0m\u001b[1;33m[\u001b[0m\u001b[1;33m:\u001b[0m\u001b[1;33m,\u001b[0m\u001b[1;36m1\u001b[0m\u001b[1;33m]\u001b[0m\u001b[1;33m,\u001b[0m\u001b[1;34m'o'\u001b[0m\u001b[1;33m)\u001b[0m\u001b[1;33m\u001b[0m\u001b[0m\n",
      "\u001b[1;31mIndexError\u001b[0m: index 11881 is out of bounds for axis 1 with size 11880"
     ]
    }
   ],
   "source": [
    "labels = kmeans.labels_\n",
    "centroids = kmeans.cluster_centers_\n",
    "for i in range(3):\n",
    "    # select only data observations with cluster label == i\n",
    "    ds = output[np.where(labels==i)]\n",
    "    # plot the data observations\n",
    "    plt.plot(ds[:,0],ds[:,1],'o')\n",
    "    # plot the centroids\n",
    "    lines = plt.plot(centroids[i,0],centroids[i,1],'kx')\n",
    "    # make the centroid x's bigger\n",
    "    plt.setp(lines,ms=15.0)\n",
    "    plt.setp(lines,mew=2.0)\n",
    "plt.show()"
   ]
  },
  {
   "cell_type": "code",
   "execution_count": null,
   "metadata": {
    "collapsed": false
   },
   "outputs": [],
   "source": [
    "clf = SVC(max_iter=10000,probability=True)\n",
    "clf.fit(train1,train2)\n",
    "predicted_classification=clf.predict(test1)\n",
    "print(accuracy_score(test2, predicted_classification))\n"
   ]
  },
  {
   "cell_type": "code",
   "execution_count": 6,
   "metadata": {
    "collapsed": false
   },
   "outputs": [
    {
     "name": "stderr",
     "output_type": "stream",
     "text": [
      "C:\\Users\\Admin\\Anaconda3\\lib\\site-packages\\sklearn\\svm\\base.py:224: ConvergenceWarning: Solver terminated early (max_iter=10000).  Consider pre-processing your data with StandardScaler or MinMaxScaler.\n",
      "  % self.max_iter, ConvergenceWarning)\n"
     ]
    },
    {
     "name": "stdout",
     "output_type": "stream",
     "text": [
      "0.40968013468\n"
     ]
    }
   ],
   "source": [
    "clf = SVC(max_iter=10000,kernel='poly',degree=2.0,C=0.0000000001)\n",
    "clf.fit(train1,train2)\n",
    "predicted_classification=clf.predict(test1)\n",
    "print(accuracy_score(test2, predicted_classification))"
   ]
  },
  {
   "cell_type": "code",
   "execution_count": 6,
   "metadata": {
    "collapsed": false
   },
   "outputs": [
    {
     "name": "stderr",
     "output_type": "stream",
     "text": [
      "C:\\Users\\Admin\\Anaconda3\\lib\\site-packages\\sklearn\\svm\\base.py:224: ConvergenceWarning: Solver terminated early (max_iter=10000).  Consider pre-processing your data with StandardScaler or MinMaxScaler.\n",
      "  % self.max_iter, ConvergenceWarning)\n"
     ]
    },
    {
     "name": "stdout",
     "output_type": "stream",
     "text": [
      "0.533249158249\n"
     ]
    }
   ],
   "source": [
    "clf = SVC(max_iter=10000,kernel='rbf',C=0.0000000001)\n",
    "clf.fit(train1,train2)\n",
    "predicted_classification=clf.predict(test1)\n",
    "print(accuracy_score(test2, predicted_classification))"
   ]
  },
  {
   "cell_type": "code",
   "execution_count": 41,
   "metadata": {
    "collapsed": false
   },
   "outputs": [
    {
     "name": "stdout",
     "output_type": "stream",
     "text": [
      "0.54234006734\n"
     ]
    }
   ],
   "source": [
    "clf = SVC(max_iter=50000,kernel='rbf',C=0.0000000001)\n",
    "clf.fit(train1,train2)\n",
    "predicted_classification=clf.predict(test1)\n",
    "print(accuracy_score(test2, predicted_classification))"
   ]
  },
  {
   "cell_type": "code",
   "execution_count": 8,
   "metadata": {
    "collapsed": false
   },
   "outputs": [
    {
     "name": "stdout",
     "output_type": "stream",
     "text": [
      "0.54234006734\n"
     ]
    }
   ],
   "source": [
    "clf = SVC(max_iter=99000,kernel='rbf',C=0.0000000001)\n",
    "clf.fit(train1,train2)\n",
    "predicted_classification=clf.predict(test1)\n",
    "print(accuracy_score(test2, predicted_classification))"
   ]
  },
  {
   "cell_type": "code",
   "execution_count": 22,
   "metadata": {
    "collapsed": false
   },
   "outputs": [
    {
     "name": "stdout",
     "output_type": "stream",
     "text": [
      "0.635016835017\n"
     ]
    }
   ],
   "source": [
    "h=0.2\n",
    "logreg = linear_model.LogisticRegression(C=1e5)\n",
    "# we create an instance of Neighbours Classifier and fit the data.\n",
    "logreg.fit(train1, train2)\n",
    "Z = logreg.predict(test1)\n",
    "print(logreg.score(test1,test2))\n",
    "#testdf=np.array(test2)\n",
    "#.to_frame(name='status_group')\n",
    "#test1.info()\n",
    "#print(test2.size)\n",
    "#plt.scatter(test1, testdf,  color='black')\n",
    "#plt.plot(test1, Z, color='blue',linewidth=3)\n",
    "\n",
    "#plt.xticks(())\n",
    "#plt.yticks(())\n",
    "\n",
    "#plt.show()"
   ]
  },
  {
   "cell_type": "code",
   "execution_count": 14,
   "metadata": {
    "collapsed": false
   },
   "outputs": [
    {
     "name": "stdout",
     "output_type": "stream",
     "text": [
      "0.595202020202\n"
     ]
    }
   ],
   "source": [
    "output=OneVsRestClassifier(SVC(random_state=0)).fit(train1, train2).predict(test1)\n",
    "print(accuracy_score(test2, output))"
   ]
  },
  {
   "cell_type": "code",
   "execution_count": 21,
   "metadata": {
    "collapsed": false
   },
   "outputs": [
    {
     "name": "stdout",
     "output_type": "stream",
     "text": [
      "0.803872053872\n"
     ]
    }
   ],
   "source": [
    "output=OneVsRestClassifier(RandomForestClassifier(n_estimators = 150,criterion='entropy')).fit(train1, train2).predict(test1)\n",
    "print(accuracy_score(test2, output))\n",
    "#0.806144781145 - without few cols"
   ]
  },
  {
   "cell_type": "code",
   "execution_count": 10,
   "metadata": {
    "collapsed": false
   },
   "outputs": [
    {
     "name": "stdout",
     "output_type": "stream",
     "text": [
      "0.804124579125\n"
     ]
    }
   ],
   "source": [
    "output=OneVsRestClassifier(RandomForestClassifier(n_estimators = 150,criterion='gini')).fit(train1, train2).predict(test1)\n",
    "print(accuracy_score(test2, output))"
   ]
  },
  {
   "cell_type": "code",
   "execution_count": 13,
   "metadata": {
    "collapsed": false
   },
   "outputs": [
    {
     "name": "stdout",
     "output_type": "stream",
     "text": [
      "0.801936026936\n"
     ]
    }
   ],
   "source": [
    "output=OneVsRestClassifier(RandomForestClassifier(n_estimators = 150,criterion='entropy')).fit(train1, train2).predict(test1)\n",
    "print(accuracy_score(test2, output))"
   ]
  },
  {
   "cell_type": "code",
   "execution_count": 34,
   "metadata": {
    "collapsed": false
   },
   "outputs": [
    {
     "name": "stdout",
     "output_type": "stream",
     "text": [
      "0.604966329966\n"
     ]
    }
   ],
   "source": [
    "gnb = GaussianNB()\n",
    "output = gnb.fit(train1, train2).predict(test1)\n",
    "print(accuracy_score(test2, output))"
   ]
  },
  {
   "cell_type": "code",
   "execution_count": 21,
   "metadata": {
    "collapsed": false
   },
   "outputs": [
    {
     "name": "stdout",
     "output_type": "stream",
     "text": [
      "0.622306397306\n"
     ]
    }
   ],
   "source": [
    "from sklearn.neighbors import KNeighborsClassifier\n",
    "neigh = KNeighborsClassifier(n_neighbors=3,algorithm='auto')\n",
    "#train1=train1+train2\n",
    "output=neigh.fit(train1,train2).predict(test1)\n",
    "print(accuracy_score(test2, output))"
   ]
  },
  {
   "cell_type": "code",
   "execution_count": 23,
   "metadata": {
    "collapsed": false
   },
   "outputs": [
    {
     "name": "stdout",
     "output_type": "stream",
     "text": [
      "0.387626262626\n"
     ]
    }
   ],
   "source": [
    "from sklearn import linear_model\n",
    "clf = linear_model.SGDClassifier()\n",
    "clf.fit(train1,train2)\n",
    "output=clf.predict(test1)\n",
    "print(accuracy_score(test2, output))"
   ]
  },
  {
   "cell_type": "code",
   "execution_count": 26,
   "metadata": {
    "collapsed": false
   },
   "outputs": [
    {
     "name": "stdout",
     "output_type": "stream",
     "text": [
      "0.390740740741\n"
     ]
    }
   ],
   "source": [
    "reg = linear_model.Ridge (alpha = .5,solver='sparse_cg')\n",
    "clf.fit(train1,train2)\n",
    "output=clf.predict(test1)\n",
    "print(accuracy_score(test2, output))"
   ]
  }
 ],
 "metadata": {
  "anaconda-cloud": {},
  "kernelspec": {
   "display_name": "Python [Root]",
   "language": "python",
   "name": "Python [Root]"
  },
  "language_info": {
   "codemirror_mode": {
    "name": "ipython",
    "version": 3
   },
   "file_extension": ".py",
   "mimetype": "text/x-python",
   "name": "python",
   "nbconvert_exporter": "python",
   "pygments_lexer": "ipython3",
   "version": "3.5.2"
  }
 },
 "nbformat": 4,
 "nbformat_minor": 0
}
